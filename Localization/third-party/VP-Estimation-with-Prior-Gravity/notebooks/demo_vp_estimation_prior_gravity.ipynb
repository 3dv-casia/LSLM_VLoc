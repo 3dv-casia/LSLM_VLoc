{
 "cells": [
  {
   "cell_type": "code",
   "execution_count": null,
   "id": "f8b71d89",
   "metadata": {},
   "outputs": [],
   "source": [
    "import os\n",
    "import numpy as np\n",
    "import cv2\n",
    "import sys\n",
    "import random\n",
    "\n",
    "from vp_estimation_with_prior_gravity.features.line_detector import LineDetector\n",
    "sys.path.append(os.path.join(os.path.dirname(os.path.abspath(\"\")), \"build/vp_estimation_with_prior_gravity\"))\n",
    "from vp_estimation_with_prior_gravity.solvers import run_hybrid_uncalibrated\n",
    "from vp_estimation_with_prior_gravity.evaluation import project_vp_to_image, get_labels_from_vp\n",
    "from vp_estimation_with_prior_gravity.visualization import plot_images, plot_vp, plot_lines"
   ]
  },
  {
   "cell_type": "code",
   "execution_count": null,
   "id": "7fe477af",
   "metadata": {},
   "outputs": [],
   "source": [
    "# Which solvers to us for our hybrid solver:\n",
    "# 0 - 2lines 200g\n",
    "# 1 - 2lines 110g\n",
    "# 2 - 2lines 011g\n",
    "# 3 - 4lines 211\n",
    "# 4 - 4lines 220\n",
    "SOLVER_FLAGS = [True, True, True, True, True]\n",
    "th_pixels = 3  # RANSAC inlier threshold\n",
    "ls_refinement = 2  # 3 uses the gravity in the LS refinement, 2 does not. Here we use a prior on the gravity, so use 2\n",
    "nms = 1  # change to 3 to add a Ceres optimization after the non minimal solver (slower)\n",
    "magsac_scoring = True"
   ]
  },
  {
   "cell_type": "code",
   "execution_count": null,
   "id": "d9df0290",
   "metadata": {},
   "outputs": [],
   "source": [
    "# Read the image\n",
    "img_path = \"../assets/images/P1080036.jpg\"\n",
    "img = cv2.imread(img_path, 0)\n",
    "\n",
    "# We use a prior vertical gravity\n",
    "if (SOLVER_FLAGS == [True, False, False, False, False]) or (SOLVER_FLAGS == [False, False, True, False, False]):\n",
    "    vertical = np.array([random.random() / 1e12, 1, random.random() / 1e12])\n",
    "    vertical /= np.linalg.norm(vertical)\n",
    "else:\n",
    "    vertical = np.array([0., 1, 0.])\n",
    "    \n",
    "# Intrinsics matrix obtained from the Yor Urban dataset\n",
    "K = np.array([[674.91797516, 0., 306.55130528],\n",
    "              [0., 674.91797516, 250.45424496],\n",
    "              [0., 0., 1.]])"
   ]
  },
  {
   "cell_type": "code",
   "execution_count": null,
   "id": "0cb806b5",
   "metadata": {
    "scrolled": false
   },
   "outputs": [],
   "source": [
    "# Detect lines\n",
    "line_type = 'lsd'  # 'lsd' or 'deeplsd'\n",
    "line_detector = LineDetector(line_detector=line_type)\n",
    "lines = line_detector.detect_lines(img)[:, :, [1, 0]]"
   ]
  },
  {
   "cell_type": "code",
   "execution_count": null,
   "id": "4ab09ffc",
   "metadata": {},
   "outputs": [],
   "source": [
    "# Run the VP estimation with our hybrid RANSAC\n",
    "principle_point = np.array([img.shape[1] / 2.0, img.shape[0] / 2.0])\n",
    "f, vp = run_hybrid_uncalibrated(\n",
    "    lines - principle_point[None, None, :],\n",
    "    vertical, th_pixels=th_pixels, ls_refinement=ls_refinement,\n",
    "    nms=nms, magsac_scoring=magsac_scoring, sprt=True, solver_flags=SOLVER_FLAGS)\n",
    "vp[:, 1] *= -1\n",
    "\n",
    "# Get the line-VP assignment\n",
    "vp_labels = get_labels_from_vp(lines[:, :, [1, 0]], project_vp_to_image(vp, K), threshold=th_pixels)[0]"
   ]
  },
  {
   "cell_type": "code",
   "execution_count": null,
   "id": "af61d441",
   "metadata": {},
   "outputs": [],
   "source": [
    "# Plot the results\n",
    "plot_images([img, img])\n",
    "plot_lines([lines, np.empty((0, 2, 2))])\n",
    "plot_vp([np.empty((0, 2, 2)), lines], [[], vp_labels])"
   ]
  }
 ],
 "metadata": {
  "kernelspec": {
   "display_name": "Python 3 (ipykernel)",
   "language": "python",
   "name": "python3"
  },
  "language_info": {
   "codemirror_mode": {
    "name": "ipython",
    "version": 3
   },
   "file_extension": ".py",
   "mimetype": "text/x-python",
   "name": "python",
   "nbconvert_exporter": "python",
   "pygments_lexer": "ipython3",
   "version": "3.9.0"
  }
 },
 "nbformat": 4,
 "nbformat_minor": 5
}
